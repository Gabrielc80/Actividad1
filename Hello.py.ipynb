{
 "cells": [
  {
   "cell_type": "markdown",
   "id": "2d1fd9e4",
   "metadata": {},
   "source": [
    "Gabriel Contreras\n",
    "\n",
    "El sol sale para todos"
   ]
  },
  {
   "cell_type": "code",
   "execution_count": 4,
   "id": "a7002418",
   "metadata": {},
   "outputs": [
    {
     "name": "stdout",
     "output_type": "stream",
     "text": [
      "Gabriel Contreras\n",
      "Hello world\n"
     ]
    }
   ],
   "source": [
    "print(\"Gabriel Contreras\")\n",
    "\n",
    "print(\"Hello world\")"
   ]
  },
  {
   "cell_type": "code",
   "execution_count": null,
   "id": "72357857",
   "metadata": {},
   "outputs": [],
   "source": []
  }
 ],
 "metadata": {
  "kernelspec": {
   "display_name": "Python 3 (ipykernel)",
   "language": "python",
   "name": "python3"
  },
  "language_info": {
   "codemirror_mode": {
    "name": "ipython",
    "version": 3
   },
   "file_extension": ".py",
   "mimetype": "text/x-python",
   "name": "python",
   "nbconvert_exporter": "python",
   "pygments_lexer": "ipython3",
   "version": "3.9.13"
  }
 },
 "nbformat": 4,
 "nbformat_minor": 5
}
